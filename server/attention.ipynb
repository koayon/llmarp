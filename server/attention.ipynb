{
 "cells": [
  {
   "cell_type": "code",
   "execution_count": 1,
   "metadata": {},
   "outputs": [],
   "source": [
    "from functools import partial\n",
    "from typing import Any, Callable, Dict, List, Optional, Sequence, Tuple, Union\n",
    "\n",
    "import einops\n",
    "import numpy as np\n",
    "import pandas as pd\n",
    "import torch\n",
    "import transformer_lens\n",
    "import transformer_lens.utils as utils\n",
    "from fancy_einsum import einsum\n",
    "from fastapi import FastAPI\n",
    "from transformer_lens import ActivationCache, HookedTransformer\n",
    "from dataclasses import dataclass"
   ]
  },
  {
   "cell_type": "code",
   "execution_count": 2,
   "metadata": {},
   "outputs": [
    {
     "name": "stderr",
     "output_type": "stream",
     "text": [
      "Using pad_token, but it is not set yet.\n"
     ]
    },
    {
     "name": "stdout",
     "output_type": "stream",
     "text": [
      "Loaded pretrained model gpt2 into HookedTransformer\n"
     ]
    }
   ],
   "source": [
    "# Setup\n",
    "\n",
    "torch.set_grad_enabled(False)\n",
    "device = \"cuda\" if torch.cuda.is_available() else \"cpu\"\n",
    "\n",
    "# Looking at GPT-2 Small first\n",
    "model = HookedTransformer.from_pretrained(\"gpt2\", device=device)\n",
    "model_cfg = model.cfg"
   ]
  },
  {
   "cell_type": "code",
   "execution_count": null,
   "metadata": {},
   "outputs": [],
   "source": [
    "@dataclass\n",
    "class Prediction:\n",
    "    next_token: str\n",
    "    top5_tokens: List[str]\n",
    "    confidence_in_guess: float\n",
    "    confidence_in_top_5: float\n",
    "    attention: List[float]"
   ]
  },
  {
   "cell_type": "code",
   "execution_count": 24,
   "metadata": {},
   "outputs": [
    {
     "data": {
      "text/plain": [
       "tensor([3, 2, 1])"
      ]
     },
     "execution_count": 24,
     "metadata": {},
     "output_type": "execute_result"
    }
   ],
   "source": [
    "a = torch.tensor([1,2,3])\n",
    "a.sort(-1, descending=True)[0]"
   ]
  },
  {
   "cell_type": "markdown",
   "metadata": {},
   "source": [
    "Idea: \n",
    "You give me a sequence of tokens, for each subsequence I give you back: \n",
    "- The best prediction for next token\n",
    "- How confident I am\n",
    "- My top 5 guesses\n",
    "- The attention pattern I used to get this guess"
   ]
  },
  {
   "cell_type": "code",
   "execution_count": 40,
   "metadata": {},
   "outputs": [],
   "source": [
    "def get_prediction(sequence: str, model: HookedTransformer = model, topk: int = 5) -> Tuple[str, float, List[str]]:\n",
    "    \"Return the next token, confidence in the guess and top 5 guesses\"\n",
    "    logits = model(sequence) # batch (1), sequence length, vocab size\n",
    "    \n",
    "    logits_most_to_least_likely, tokens_most_to_least_likely = logits.sort(-1, descending =True) # batch (1), sequence length, vocab size\n",
    "    print(logits_most_to_least_likely.shape)\n",
    "    \n",
    "    probs_most_to_least_likely = torch.softmax(logits_most_to_least_likely, dim=-1)[0]\n",
    "    confidence_in_top_guess = probs_most_to_least_likely[-1, 0].item()\n",
    "    \n",
    "    top_predictions = tokens_most_to_least_likely[0, :, :topk] # sequence length, topk\n",
    "    final_top_predictions = top_predictions[-1, :]\n",
    "\n",
    "    print(top_predictions.shape)\n",
    "    print(top_predictions)\n",
    "    # str_predictions = [model.to_str_tokens(top_predictions[:, i]) for i in range(topk)]\n",
    "    topk_predictions = model.to_str_tokens(final_top_predictions) \n",
    "    # print(len(str_predictions))\n",
    "    # print(len(str_predictions[0]))\n",
    "    \n",
    "    # prediction = Prediction(next_token=str_predictions[0][-1],\n",
    "    #                         top5_tokens=None,\n",
    "    #                         confidence_in_guess=confidence_in_top_guess,\n",
    "    #                         confidence_in_top_5=confidence_in_topk,\n",
    "    #                         attention=None)\n",
    "    return topk_predictions[0], confidence_in_top_guess, topk_predictions\n",
    "    # TODO: Also return the probability of the next token and maybe top 3 guesses\n",
    "    return model.to_string(next_token)"
   ]
  },
  {
   "cell_type": "code",
   "execution_count": null,
   "metadata": {},
   "outputs": [],
   "source": [
    "def get_all_predictions(sequence: str, model: HookedTransformer = model, topk: int = 5) -> pd.DataFrame"
   ]
  },
  {
   "cell_type": "code",
   "execution_count": null,
   "metadata": {},
   "outputs": [],
   "source": [
    "# model.to_str_tokens(top_predictions[:, 0])"
   ]
  },
  {
   "cell_type": "code",
   "execution_count": 41,
   "metadata": {},
   "outputs": [
    {
     "name": "stdout",
     "output_type": "stream",
     "text": [
      "torch.Size([1, 9, 50257])\n",
      "torch.Size([9, 5])\n",
      "tensor([[ 198,  464,    1,   32,   40],\n",
      "        [  13,    8, 5985,  198,  362],\n",
      "        [ 830, 4059, 2167,   23,   24],\n",
      "        [  11,   12,   13,    8,  198],\n",
      "        [  18,   19,   20,   17,   16],\n",
      "        [  11,   12,  198,    8,   13],\n",
      "        [  19,   20,   18,   21,   16],\n",
      "        [  11,  198,   12,    8,   13],\n",
      "        [  20,   21,   19,   16,   22]])\n"
     ]
    },
    {
     "data": {
      "text/plain": [
       "('5', 0.9244884848594666, ['5', '6', '4', '1', '7'])"
      ]
     },
     "execution_count": 41,
     "metadata": {},
     "output_type": "execute_result"
    }
   ],
   "source": [
    "get_prediction(\"1,2,3,4,\")"
   ]
  },
  {
   "cell_type": "code",
   "execution_count": 4,
   "metadata": {},
   "outputs": [],
   "source": [
    "def attention_pattern(sequence: str, model: HookedTransformer = model) -> list:\n",
    "    logits, cache = model.run_with_cache(sequence, remove_batch_dim=True)\n",
    "    attention_patterns = [cache[\"pattern\", layer, \"attn\"] for layer in range(12)]\n",
    "    attention_patterns = torch.stack(attention_patterns, dim=0)  # layer, head, seq, seq\n",
    "    reduced_attention = einops.reduce(\n",
    "        attention_patterns, \"layer head i j -> i j\", \"mean\"\n",
    "    )\n",
    "    final_token_attention = reduced_attention[-1]\n",
    "    final_token_attention = final_token_attention[1:]\n",
    "    # rescale to sum to 1\n",
    "    final_token_attention = final_token_attention / final_token_attention.sum(\n",
    "        -1, keepdims=True\n",
    "    )\n",
    "    return final_token_attention.numpy().tolist()\n"
   ]
  },
  {
   "cell_type": "code",
   "execution_count": 5,
   "metadata": {},
   "outputs": [],
   "source": [
    "def predict_with_attention(sequence=\"1,2,3,4,\", model=model):\n",
    "    next_token = get_prediction(sequence, model)\n",
    "\n",
    "    attention = attention_pattern(sequence, model)\n",
    "    print(\"next token: \", next_token)\n",
    "    print(\"attention: \", attention)\n",
    "    return next_token, attention"
   ]
  },
  {
   "cell_type": "code",
   "execution_count": null,
   "metadata": {},
   "outputs": [],
   "source": []
  },
  {
   "cell_type": "code",
   "execution_count": null,
   "metadata": {},
   "outputs": [],
   "source": [
    "\n",
    "\n",
    "\n",
    "\n",
    "\n",
    "if __name__ == \"__main__\":\n",
    "    print(predict_with_attention(\"1,2,3,4,\"))\n",
    "\n",
    "# next_token_logits, cache = model.run_with_cache(to_4_seq)\n",
    "# possible_next_tokens = next_token_logits.argsort(-1, descending=True)[0][-1][:10]\n",
    "# print(possible_next_tokens.shape)\n",
    "# model.to_str_tokens(possible_next_tokens.unsqueeze(0))\n",
    "\n",
    "# to_4_seq = \"1,2,3,4,\"\n",
    "# to_4_tokens = model.to_tokens(to_4_seq)\n",
    "# logits, cache = model.run_with_cache(to_4_tokens, remove_batch_dim=True)\n",
    "\n",
    "# attention_patterns = [cache[\"pattern\", layer, \"attn\"] for layer in range(12)]\n",
    "# attention_patterns = torch.stack(attention_patterns, dim=0)  # layer, head, seq, seq\n",
    "# reduced_attention = einops.reduce(attention_patterns, \"layer head i j -> i j\", \"mean\")\n",
    "# final_token_attention = reduced_attention[-1]\n",
    "# final_token_attention = final_token_attention[1:]\n",
    "# # rescale to sum to 1\n",
    "# final_token_attention = final_token_attention / final_token_attention.sum(\n",
    "#     -1, keepdims=True\n",
    "# )\n",
    "\n",
    "\n",
    "# # Also give how confident model was in it's prediction.\n",
    "# next_token_probs = logits.softmax(-1)[0][-1].sort(descending=True)[0][:10]\n"
   ]
  }
 ],
 "metadata": {
  "kernelspec": {
   "display_name": "Python 3",
   "language": "python",
   "name": "python3"
  },
  "language_info": {
   "codemirror_mode": {
    "name": "ipython",
    "version": 3
   },
   "file_extension": ".py",
   "mimetype": "text/x-python",
   "name": "python",
   "nbconvert_exporter": "python",
   "pygments_lexer": "ipython3",
   "version": "3.10.10"
  },
  "orig_nbformat": 4
 },
 "nbformat": 4,
 "nbformat_minor": 2
}
